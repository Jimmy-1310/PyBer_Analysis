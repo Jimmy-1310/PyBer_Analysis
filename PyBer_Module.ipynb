{
 "cells": [
  {
   "cell_type": "code",
   "execution_count": 1,
   "id": "30e7f0b5",
   "metadata": {},
   "outputs": [],
   "source": [
    "#Add magic inline command\n",
    "%matplotlib inline\n",
    "#Dependencies and set-up\n",
    "import matplotlib.pyplot as plt\n",
    "import pandas as pd\n",
    "import os \n",
    "import scipy.stats as sts\n",
    "import numpy as np"
   ]
  },
  {
   "cell_type": "code",
   "execution_count": 2,
   "id": "ecd9958a",
   "metadata": {},
   "outputs": [],
   "source": [
    "#Files to Load\n",
    "city_data_to_load=os.path.join(\"Resources\",\"city_data.csv\")\n",
    "ride_data_to_load=os.path.join(\"Resources\",\"ride_data.csv\")"
   ]
  },
  {
   "cell_type": "code",
   "execution_count": 3,
   "id": "b4a3c943",
   "metadata": {},
   "outputs": [
    {
     "data": {
      "text/html": [
       "<div>\n",
       "<style scoped>\n",
       "    .dataframe tbody tr th:only-of-type {\n",
       "        vertical-align: middle;\n",
       "    }\n",
       "\n",
       "    .dataframe tbody tr th {\n",
       "        vertical-align: top;\n",
       "    }\n",
       "\n",
       "    .dataframe thead th {\n",
       "        text-align: right;\n",
       "    }\n",
       "</style>\n",
       "<table border=\"1\" class=\"dataframe\">\n",
       "  <thead>\n",
       "    <tr style=\"text-align: right;\">\n",
       "      <th></th>\n",
       "      <th>city</th>\n",
       "      <th>driver_count</th>\n",
       "      <th>type</th>\n",
       "    </tr>\n",
       "  </thead>\n",
       "  <tbody>\n",
       "    <tr>\n",
       "      <th>0</th>\n",
       "      <td>Richardfort</td>\n",
       "      <td>38</td>\n",
       "      <td>Urban</td>\n",
       "    </tr>\n",
       "    <tr>\n",
       "      <th>1</th>\n",
       "      <td>Williamsstad</td>\n",
       "      <td>59</td>\n",
       "      <td>Urban</td>\n",
       "    </tr>\n",
       "    <tr>\n",
       "      <th>2</th>\n",
       "      <td>Port Angela</td>\n",
       "      <td>67</td>\n",
       "      <td>Urban</td>\n",
       "    </tr>\n",
       "    <tr>\n",
       "      <th>3</th>\n",
       "      <td>Rodneyfort</td>\n",
       "      <td>34</td>\n",
       "      <td>Urban</td>\n",
       "    </tr>\n",
       "    <tr>\n",
       "      <th>4</th>\n",
       "      <td>West Robert</td>\n",
       "      <td>39</td>\n",
       "      <td>Urban</td>\n",
       "    </tr>\n",
       "    <tr>\n",
       "      <th>5</th>\n",
       "      <td>West Anthony</td>\n",
       "      <td>70</td>\n",
       "      <td>Urban</td>\n",
       "    </tr>\n",
       "    <tr>\n",
       "      <th>6</th>\n",
       "      <td>West Angela</td>\n",
       "      <td>48</td>\n",
       "      <td>Urban</td>\n",
       "    </tr>\n",
       "    <tr>\n",
       "      <th>7</th>\n",
       "      <td>Martinezhaven</td>\n",
       "      <td>25</td>\n",
       "      <td>Urban</td>\n",
       "    </tr>\n",
       "    <tr>\n",
       "      <th>8</th>\n",
       "      <td>Karenberg</td>\n",
       "      <td>22</td>\n",
       "      <td>Urban</td>\n",
       "    </tr>\n",
       "    <tr>\n",
       "      <th>9</th>\n",
       "      <td>Barajasview</td>\n",
       "      <td>26</td>\n",
       "      <td>Urban</td>\n",
       "    </tr>\n",
       "  </tbody>\n",
       "</table>\n",
       "</div>"
      ],
      "text/plain": [
       "            city  driver_count   type\n",
       "0    Richardfort            38  Urban\n",
       "1   Williamsstad            59  Urban\n",
       "2    Port Angela            67  Urban\n",
       "3     Rodneyfort            34  Urban\n",
       "4    West Robert            39  Urban\n",
       "5   West Anthony            70  Urban\n",
       "6    West Angela            48  Urban\n",
       "7  Martinezhaven            25  Urban\n",
       "8      Karenberg            22  Urban\n",
       "9    Barajasview            26  Urban"
      ]
     },
     "execution_count": 3,
     "metadata": {},
     "output_type": "execute_result"
    }
   ],
   "source": [
    "#read the citry data file and transform it intro a DF\n",
    "city_data_df=pd.read_csv(city_data_to_load)\n",
    "city_data_df.head(10)"
   ]
  },
  {
   "cell_type": "code",
   "execution_count": 4,
   "id": "e9694042",
   "metadata": {},
   "outputs": [
    {
     "data": {
      "text/html": [
       "<div>\n",
       "<style scoped>\n",
       "    .dataframe tbody tr th:only-of-type {\n",
       "        vertical-align: middle;\n",
       "    }\n",
       "\n",
       "    .dataframe tbody tr th {\n",
       "        vertical-align: top;\n",
       "    }\n",
       "\n",
       "    .dataframe thead th {\n",
       "        text-align: right;\n",
       "    }\n",
       "</style>\n",
       "<table border=\"1\" class=\"dataframe\">\n",
       "  <thead>\n",
       "    <tr style=\"text-align: right;\">\n",
       "      <th></th>\n",
       "      <th>city</th>\n",
       "      <th>date</th>\n",
       "      <th>fare</th>\n",
       "      <th>ride_id</th>\n",
       "    </tr>\n",
       "  </thead>\n",
       "  <tbody>\n",
       "    <tr>\n",
       "      <th>0</th>\n",
       "      <td>Lake Jonathanshire</td>\n",
       "      <td>2019-01-14 10:14:22</td>\n",
       "      <td>13.83</td>\n",
       "      <td>5739410935873</td>\n",
       "    </tr>\n",
       "    <tr>\n",
       "      <th>1</th>\n",
       "      <td>South Michelleport</td>\n",
       "      <td>2019-03-04 18:24:09</td>\n",
       "      <td>30.24</td>\n",
       "      <td>2343912425577</td>\n",
       "    </tr>\n",
       "    <tr>\n",
       "      <th>2</th>\n",
       "      <td>Port Samanthamouth</td>\n",
       "      <td>2019-02-24 04:29:00</td>\n",
       "      <td>33.44</td>\n",
       "      <td>2005065760003</td>\n",
       "    </tr>\n",
       "    <tr>\n",
       "      <th>3</th>\n",
       "      <td>Rodneyfort</td>\n",
       "      <td>2019-02-10 23:22:03</td>\n",
       "      <td>23.44</td>\n",
       "      <td>5149245426178</td>\n",
       "    </tr>\n",
       "    <tr>\n",
       "      <th>4</th>\n",
       "      <td>South Jack</td>\n",
       "      <td>2019-03-06 04:28:35</td>\n",
       "      <td>34.58</td>\n",
       "      <td>3908451377344</td>\n",
       "    </tr>\n",
       "    <tr>\n",
       "      <th>5</th>\n",
       "      <td>South Latoya</td>\n",
       "      <td>2019-03-11 12:26:48</td>\n",
       "      <td>9.52</td>\n",
       "      <td>1994999424437</td>\n",
       "    </tr>\n",
       "    <tr>\n",
       "      <th>6</th>\n",
       "      <td>New Paulville</td>\n",
       "      <td>2019-02-27 11:17:56</td>\n",
       "      <td>43.25</td>\n",
       "      <td>793208410091</td>\n",
       "    </tr>\n",
       "    <tr>\n",
       "      <th>7</th>\n",
       "      <td>Simpsonburgh</td>\n",
       "      <td>2019-04-26 00:43:24</td>\n",
       "      <td>35.98</td>\n",
       "      <td>111953927754</td>\n",
       "    </tr>\n",
       "    <tr>\n",
       "      <th>8</th>\n",
       "      <td>South Karenland</td>\n",
       "      <td>2019-01-08 03:28:48</td>\n",
       "      <td>35.09</td>\n",
       "      <td>7995623208694</td>\n",
       "    </tr>\n",
       "    <tr>\n",
       "      <th>9</th>\n",
       "      <td>North Jasmine</td>\n",
       "      <td>2019-03-09 06:26:29</td>\n",
       "      <td>42.81</td>\n",
       "      <td>5327642267789</td>\n",
       "    </tr>\n",
       "  </tbody>\n",
       "</table>\n",
       "</div>"
      ],
      "text/plain": [
       "                 city                 date   fare        ride_id\n",
       "0  Lake Jonathanshire  2019-01-14 10:14:22  13.83  5739410935873\n",
       "1  South Michelleport  2019-03-04 18:24:09  30.24  2343912425577\n",
       "2  Port Samanthamouth  2019-02-24 04:29:00  33.44  2005065760003\n",
       "3          Rodneyfort  2019-02-10 23:22:03  23.44  5149245426178\n",
       "4          South Jack  2019-03-06 04:28:35  34.58  3908451377344\n",
       "5        South Latoya  2019-03-11 12:26:48   9.52  1994999424437\n",
       "6       New Paulville  2019-02-27 11:17:56  43.25   793208410091\n",
       "7        Simpsonburgh  2019-04-26 00:43:24  35.98   111953927754\n",
       "8     South Karenland  2019-01-08 03:28:48  35.09  7995623208694\n",
       "9       North Jasmine  2019-03-09 06:26:29  42.81  5327642267789"
      ]
     },
     "execution_count": 4,
     "metadata": {},
     "output_type": "execute_result"
    }
   ],
   "source": [
    "#Read the ride data and store it in a DF\n",
    "ride_data_df=pd.read_csv(ride_data_to_load)\n",
    "ride_data_df.head(10)"
   ]
  },
  {
   "cell_type": "code",
   "execution_count": 5,
   "id": "d23a91ad",
   "metadata": {},
   "outputs": [
    {
     "data": {
      "text/plain": [
       "city            object\n",
       "driver_count     int64\n",
       "type            object\n",
       "dtype: object"
      ]
     },
     "execution_count": 5,
     "metadata": {},
     "output_type": "execute_result"
    }
   ],
   "source": [
    "#Inspect city data\n",
    "city_data_df.isnull().sum()\n",
    "#Check data type\n",
    "city_data_df.dtypes"
   ]
  },
  {
   "cell_type": "code",
   "execution_count": 6,
   "id": "2d3c3bff",
   "metadata": {},
   "outputs": [
    {
     "data": {
      "text/plain": [
       "array(['Urban', 'Suburban', 'Rural'], dtype=object)"
      ]
     },
     "execution_count": 6,
     "metadata": {},
     "output_type": "execute_result"
    }
   ],
   "source": [
    "#Check how many data points there are for type\n",
    "city_data_df[\"type\"].unique()"
   ]
  },
  {
   "cell_type": "code",
   "execution_count": 7,
   "id": "5e155284",
   "metadata": {},
   "outputs": [
    {
     "data": {
      "text/plain": [
       "66"
      ]
     },
     "execution_count": 7,
     "metadata": {},
     "output_type": "execute_result"
    }
   ],
   "source": [
    "#Get the number of data points from the urban cities\n",
    "sum(city_data_df[\"type\"]==\"Urban\")"
   ]
  },
  {
   "cell_type": "code",
   "execution_count": 8,
   "id": "e3800bc6",
   "metadata": {},
   "outputs": [
    {
     "data": {
      "text/plain": [
       "36"
      ]
     },
     "execution_count": 8,
     "metadata": {},
     "output_type": "execute_result"
    }
   ],
   "source": [
    "#Get the number of data points from the Suburban cities\n",
    "sum(city_data_df[\"type\"]==\"Suburban\")"
   ]
  },
  {
   "cell_type": "code",
   "execution_count": 9,
   "id": "a565c130",
   "metadata": {},
   "outputs": [
    {
     "data": {
      "text/plain": [
       "18"
      ]
     },
     "execution_count": 9,
     "metadata": {},
     "output_type": "execute_result"
    }
   ],
   "source": [
    "#Get the number of data points from the rural cities\n",
    "sum(city_data_df[\"type\"]==\"Rural\")"
   ]
  },
  {
   "cell_type": "code",
   "execution_count": 10,
   "id": "50a78455",
   "metadata": {},
   "outputs": [
    {
     "data": {
      "text/plain": [
       "city       0\n",
       "date       0\n",
       "fare       0\n",
       "ride_id    0\n",
       "dtype: int64"
      ]
     },
     "execution_count": 10,
     "metadata": {},
     "output_type": "execute_result"
    }
   ],
   "source": [
    "#inspect ride data\n",
    "ride_data_df.isnull().sum()"
   ]
  },
  {
   "cell_type": "code",
   "execution_count": 11,
   "id": "5c8926e7",
   "metadata": {},
   "outputs": [
    {
     "data": {
      "text/plain": [
       "city        object\n",
       "date        object\n",
       "fare       float64\n",
       "ride_id      int64\n",
       "dtype: object"
      ]
     },
     "execution_count": 11,
     "metadata": {},
     "output_type": "execute_result"
    }
   ],
   "source": [
    "#Inspect ride data types\n",
    "ride_data_df.dtypes"
   ]
  },
  {
   "cell_type": "code",
   "execution_count": 12,
   "id": "a65486e4",
   "metadata": {},
   "outputs": [
    {
     "data": {
      "text/html": [
       "<div>\n",
       "<style scoped>\n",
       "    .dataframe tbody tr th:only-of-type {\n",
       "        vertical-align: middle;\n",
       "    }\n",
       "\n",
       "    .dataframe tbody tr th {\n",
       "        vertical-align: top;\n",
       "    }\n",
       "\n",
       "    .dataframe thead th {\n",
       "        text-align: right;\n",
       "    }\n",
       "</style>\n",
       "<table border=\"1\" class=\"dataframe\">\n",
       "  <thead>\n",
       "    <tr style=\"text-align: right;\">\n",
       "      <th></th>\n",
       "      <th>city</th>\n",
       "      <th>date</th>\n",
       "      <th>fare</th>\n",
       "      <th>ride_id</th>\n",
       "      <th>driver_count</th>\n",
       "      <th>type</th>\n",
       "    </tr>\n",
       "  </thead>\n",
       "  <tbody>\n",
       "    <tr>\n",
       "      <th>0</th>\n",
       "      <td>Lake Jonathanshire</td>\n",
       "      <td>2019-01-14 10:14:22</td>\n",
       "      <td>13.83</td>\n",
       "      <td>5739410935873</td>\n",
       "      <td>5</td>\n",
       "      <td>Urban</td>\n",
       "    </tr>\n",
       "    <tr>\n",
       "      <th>1</th>\n",
       "      <td>South Michelleport</td>\n",
       "      <td>2019-03-04 18:24:09</td>\n",
       "      <td>30.24</td>\n",
       "      <td>2343912425577</td>\n",
       "      <td>72</td>\n",
       "      <td>Urban</td>\n",
       "    </tr>\n",
       "    <tr>\n",
       "      <th>2</th>\n",
       "      <td>Port Samanthamouth</td>\n",
       "      <td>2019-02-24 04:29:00</td>\n",
       "      <td>33.44</td>\n",
       "      <td>2005065760003</td>\n",
       "      <td>57</td>\n",
       "      <td>Urban</td>\n",
       "    </tr>\n",
       "    <tr>\n",
       "      <th>3</th>\n",
       "      <td>Rodneyfort</td>\n",
       "      <td>2019-02-10 23:22:03</td>\n",
       "      <td>23.44</td>\n",
       "      <td>5149245426178</td>\n",
       "      <td>34</td>\n",
       "      <td>Urban</td>\n",
       "    </tr>\n",
       "    <tr>\n",
       "      <th>4</th>\n",
       "      <td>South Jack</td>\n",
       "      <td>2019-03-06 04:28:35</td>\n",
       "      <td>34.58</td>\n",
       "      <td>3908451377344</td>\n",
       "      <td>46</td>\n",
       "      <td>Urban</td>\n",
       "    </tr>\n",
       "    <tr>\n",
       "      <th>5</th>\n",
       "      <td>South Latoya</td>\n",
       "      <td>2019-03-11 12:26:48</td>\n",
       "      <td>9.52</td>\n",
       "      <td>1994999424437</td>\n",
       "      <td>10</td>\n",
       "      <td>Urban</td>\n",
       "    </tr>\n",
       "    <tr>\n",
       "      <th>6</th>\n",
       "      <td>New Paulville</td>\n",
       "      <td>2019-02-27 11:17:56</td>\n",
       "      <td>43.25</td>\n",
       "      <td>793208410091</td>\n",
       "      <td>44</td>\n",
       "      <td>Urban</td>\n",
       "    </tr>\n",
       "    <tr>\n",
       "      <th>7</th>\n",
       "      <td>Simpsonburgh</td>\n",
       "      <td>2019-04-26 00:43:24</td>\n",
       "      <td>35.98</td>\n",
       "      <td>111953927754</td>\n",
       "      <td>21</td>\n",
       "      <td>Urban</td>\n",
       "    </tr>\n",
       "    <tr>\n",
       "      <th>8</th>\n",
       "      <td>South Karenland</td>\n",
       "      <td>2019-01-08 03:28:48</td>\n",
       "      <td>35.09</td>\n",
       "      <td>7995623208694</td>\n",
       "      <td>4</td>\n",
       "      <td>Urban</td>\n",
       "    </tr>\n",
       "    <tr>\n",
       "      <th>9</th>\n",
       "      <td>North Jasmine</td>\n",
       "      <td>2019-03-09 06:26:29</td>\n",
       "      <td>42.81</td>\n",
       "      <td>5327642267789</td>\n",
       "      <td>33</td>\n",
       "      <td>Urban</td>\n",
       "    </tr>\n",
       "  </tbody>\n",
       "</table>\n",
       "</div>"
      ],
      "text/plain": [
       "                 city                 date   fare        ride_id  \\\n",
       "0  Lake Jonathanshire  2019-01-14 10:14:22  13.83  5739410935873   \n",
       "1  South Michelleport  2019-03-04 18:24:09  30.24  2343912425577   \n",
       "2  Port Samanthamouth  2019-02-24 04:29:00  33.44  2005065760003   \n",
       "3          Rodneyfort  2019-02-10 23:22:03  23.44  5149245426178   \n",
       "4          South Jack  2019-03-06 04:28:35  34.58  3908451377344   \n",
       "5        South Latoya  2019-03-11 12:26:48   9.52  1994999424437   \n",
       "6       New Paulville  2019-02-27 11:17:56  43.25   793208410091   \n",
       "7        Simpsonburgh  2019-04-26 00:43:24  35.98   111953927754   \n",
       "8     South Karenland  2019-01-08 03:28:48  35.09  7995623208694   \n",
       "9       North Jasmine  2019-03-09 06:26:29  42.81  5327642267789   \n",
       "\n",
       "   driver_count   type  \n",
       "0             5  Urban  \n",
       "1            72  Urban  \n",
       "2            57  Urban  \n",
       "3            34  Urban  \n",
       "4            46  Urban  \n",
       "5            10  Urban  \n",
       "6            44  Urban  \n",
       "7            21  Urban  \n",
       "8             4  Urban  \n",
       "9            33  Urban  "
      ]
     },
     "execution_count": 12,
     "metadata": {},
     "output_type": "execute_result"
    }
   ],
   "source": [
    "#Merge DataFrames\n",
    "pyber_data_df=pd.merge(ride_data_df,city_data_df,how=\"left\",on=[\"city\",\"city\"])\n",
    "#Print head of DF\n",
    "pyber_data_df.head(10)"
   ]
  },
  {
   "cell_type": "code",
   "execution_count": 13,
   "id": "5b2a781f",
   "metadata": {},
   "outputs": [],
   "source": [
    "#Create urban df\n",
    "urban_cities_df=pyber_data_df[pyber_data_df[\"type\"]==\"Urban\"]"
   ]
  },
  {
   "cell_type": "code",
   "execution_count": 14,
   "id": "7d3e09be",
   "metadata": {},
   "outputs": [],
   "source": [
    "#create suburban df\n",
    "suburban_cities_df=pyber_data_df[pyber_data_df[\"type\"]==\"Suburban\"]"
   ]
  },
  {
   "cell_type": "code",
   "execution_count": 15,
   "id": "5dde1d9a",
   "metadata": {},
   "outputs": [],
   "source": [
    "#create rural df\n",
    "rural_cities_df=pyber_data_df[pyber_data_df[\"type\"]==\"Rural\"]"
   ]
  },
  {
   "cell_type": "code",
   "execution_count": 16,
   "id": "5aa3eb52",
   "metadata": {},
   "outputs": [],
   "source": [
    "#Calculate total ammount of rides\n",
    "urban_ride_count=urban_cities_df.groupby([\"city\"]).count()[\"ride_id\"]\n"
   ]
  },
  {
   "cell_type": "code",
   "execution_count": 17,
   "id": "3ee5bf5f",
   "metadata": {},
   "outputs": [],
   "source": [
    "#Calculate total suburban rides\n",
    "suburban_ride_count=suburban_cities_df.groupby([\"city\"]).count()[\"ride_id\"]"
   ]
  },
  {
   "cell_type": "code",
   "execution_count": 18,
   "id": "dc98c41d",
   "metadata": {},
   "outputs": [],
   "source": [
    "#Calculate total rural rides\n",
    "rural_ride_count=rural_cities_df.groupby([\"city\"]).count()[\"ride_id\"]"
   ]
  },
  {
   "cell_type": "code",
   "execution_count": 19,
   "id": "3a554d16",
   "metadata": {},
   "outputs": [],
   "source": [
    "#get the avarega fare by city type\n",
    "urban_avg_fare=urban_cities_df.groupby([\"city\"]).mean()[\"fare\"]\n",
    "suburban_avg_fare=suburban_cities_df.groupby([\"city\"]).mean()[\"fare\"]\n",
    "rural_avg_fare=rural_cities_df.groupby([\"city\"]).mean()[\"fare\"]"
   ]
  },
  {
   "cell_type": "code",
   "execution_count": 20,
   "id": "8bcbcbd1",
   "metadata": {},
   "outputs": [
    {
     "data": {
      "text/plain": [
       "city\n",
       "Amandaburgh        12.0\n",
       "Barajasview        26.0\n",
       "Carriemouth        52.0\n",
       "Christopherfurt    41.0\n",
       "Deanville          49.0\n",
       "Name: driver_count, dtype: float64"
      ]
     },
     "execution_count": 20,
     "metadata": {},
     "output_type": "execute_result"
    }
   ],
   "source": [
    "#Calculate the average drivers by city type\n",
    "urban_avg_drivers=urban_cities_df.groupby([\"city\"]).mean()[\"driver_count\"]\n",
    "suburban_avg_drivers=suburban_cities_df.groupby([\"city\"]).mean()[\"driver_count\"]\n",
    "rural_avg_drivers=rural_cities_df.groupby([\"city\"]).mean()[\"driver_count\"]\n",
    "urban_avg_drivers.head()"
   ]
  },
  {
   "cell_type": "code",
   "execution_count": 21,
   "id": "ec85630a",
   "metadata": {},
   "outputs": [
    {
     "data": {
      "image/png": "[encoded data removed]",
      "text/plain": [
       "<Figure size 432x288 with 1 Axes>"
      ]
     },
     "metadata": {
      "needs_background": "light"
     },
     "output_type": "display_data"
    }
   ],
   "source": [
    "#Create the urban bubble chart\n",
    "plt.scatter(urban_ride_count,\n",
    "           urban_avg_fare,\n",
    "           s=10*urban_avg_drivers,c=\"coral\",\n",
    "           edgecolor=\"black\",linewidths=1,\n",
    "           alpha=0.8,label=\"Urban\")\n",
    "plt.title(\"Pyber Ride-Sharing Data (2019)\")\n",
    "plt.xlabel(\"Total Number of Rides (Per City)\")\n",
    "plt.ylabel(\"Average Fare ($)\")\n",
    "plt.legend()\n",
    "plt.grid(True)\n",
    "plt.show()"
   ]
  },
  {
   "cell_type": "code",
   "execution_count": 22,
   "id": "a4f5b9ff",
   "metadata": {},
   "outputs": [
    {
     "data": {
      "image/png": "[encoded data removed]",
      "text/plain": [
       "<Figure size 432x288 with 1 Axes>"
      ]
     },
     "metadata": {
      "needs_background": "light"
     },
     "output_type": "display_data"
    }
   ],
   "source": [
    "#Create suburban bubble chart\n",
    "plt.scatter(suburban_ride_count,\n",
    "           suburban_avg_fare,\n",
    "           s=10*suburban_avg_drivers,c=\"skyblue\",\n",
    "           edgecolor=\"black\",linewidths=1,\n",
    "           alpha=0.8,label=\"Suburban\")\n",
    "plt.title(\"Pyber Ride-Sharing Data (2019)\")\n",
    "plt.xlabel(\"Total Number of Rides (Per City)\")\n",
    "plt.ylabel(\"Average Fare ($)\")\n",
    "plt.grid(True)\n",
    "plt.legend()\n",
    "plt.show()"
   ]
  },
  {
   "cell_type": "code",
   "execution_count": 23,
   "id": "3e6a95c6",
   "metadata": {
    "scrolled": true
   },
   "outputs": [
    {
     "data": {
      "image/png": "[encoded data removed]",
      "text/plain": [
       "<Figure size 432x288 with 1 Axes>"
      ]
     },
     "metadata": {
      "needs_background": "light"
     },
     "output_type": "display_data"
    }
   ],
   "source": [
    "#Create the rural bubble chart\n",
    "plt.scatter(rural_ride_count,\n",
    "           rural_avg_fare,s=10*rural_avg_drivers,\n",
    "           c=\"gold\",edgecolor=\"black\",linewidths=1,\n",
    "           alpha=0.8,label=\"Rural\")\n",
    "plt.title(\"Pyber Ride-Sharing Data (2019)\")\n",
    "plt.xlabel(\"Total Number of Rides (Per City)\")\n",
    "plt.ylabel(\"Average Fare ($)\")\n",
    "plt.grid(True)\n",
    "plt.legend()\n",
    "plt.show()"
   ]
  },
  {
   "cell_type": "code",
   "execution_count": 26,
   "id": "978b0d70",
   "metadata": {},
   "outputs": [
    {
     "data": {
      "image/png": "[encoded data removed]",
      "text/plain": [
       "<Figure size 576x576 with 1 Axes>"
      ]
     },
     "metadata": {
      "needs_background": "light"
     },
     "output_type": "display_data"
    }
   ],
   "source": [
    "#Create the urban bubble chart\n",
    "plt.figure(figsize=(8,8))\n",
    "plt.scatter(urban_ride_count,\n",
    "           urban_avg_fare,\n",
    "           s=10*urban_avg_drivers,c=\"coral\",\n",
    "           edgecolor=\"black\",linewidths=1,\n",
    "           alpha=0.8,label=\"Urban\")\n",
    "#Create suburban bubble chart\n",
    "plt.scatter(suburban_ride_count,\n",
    "           suburban_avg_fare,\n",
    "           s=10*suburban_avg_drivers,c=\"skyblue\",\n",
    "           edgecolor=\"black\",linewidths=1,\n",
    "           alpha=0.8,label=\"Suburban\")\n",
    "#Create the rural bubble chart\n",
    "plt.scatter(rural_ride_count,\n",
    "           rural_avg_fare,s=10*rural_avg_drivers,\n",
    "           c=\"gold\",edgecolor=\"black\",linewidths=1,\n",
    "           alpha=0.8,label=\"Rural\")\n",
    "plt.title(\"Pyber Ride-Sharing Data (2019)\")\n",
    "plt.xlabel(\"Total Number of Rides (Per City)\")\n",
    "plt.ylabel(\"Average Fare ($)\")\n",
    "plt.grid(True)\n",
    "lgnd=plt.legend(fontsize=\"12\",mode=\"Expanded\",scatterpoints=1,loc=\"best\",title=\"City Types\")\n",
    "lgnd.legendHandles[0]._sizes=[85]\n",
    "lgnd.legendHandles[1]._sizes=[85]\n",
    "lgnd.legendHandles[2]._sizes=[85]\n",
    "lgnd.get_title().set_fontsize(12)\n",
    "plt.savefig(\"analysis/fig1.png\")\n",
    "plt.show()"
   ]
  },
  {
   "cell_type": "code",
   "execution_count": null,
   "id": "17f23b42",
   "metadata": {},
   "outputs": [],
   "source": [
    "#Get summary statistics\n",
    "urban_ride_count.describe()\n",
    "suburban_ride_count.describe()\n",
    "rural_ride_count.describe()"
   ]
  },
  {
   "cell_type": "code",
   "execution_count": null,
   "id": "c585603b",
   "metadata": {},
   "outputs": [],
   "source": [
    "#Calculate mean rides\n",
    "mean_urban_rides=urban_ride_count.mean()\n",
    "mean_rural_rides=rural_ride_count.mean()\n",
    "mean_suburban_rides=suburban_ride_count.mean()"
   ]
  },
  {
   "cell_type": "code",
   "execution_count": null,
   "id": "b6573201",
   "metadata": {},
   "outputs": [],
   "source": [
    "#Calculate median rides\n",
    "mdn_urban_rides=urban_ride_count.median()\n",
    "mdn_suburban_rides=suburban_ride_count.median()\n",
    "mdn_rural_rides=rural_ride_count.median()"
   ]
  },
  {
   "cell_type": "code",
   "execution_count": null,
   "id": "15ab2629",
   "metadata": {},
   "outputs": [],
   "source": [
    "#Calculate mode in ammount of rides\n",
    "mode_urban_rides=urban_ride_count.mode()\n",
    "mode_suburban_rides=suburban_ride_count.mode()\n",
    "mode_rural_rides=rural_ride_count.mode()"
   ]
  },
  {
   "cell_type": "code",
   "execution_count": null,
   "id": "f119d6e6",
   "metadata": {},
   "outputs": [],
   "source": [
    "#Calculate fare summary statistics urban\n",
    "urban_fare=urban_cities_df[\"fare\"]\n",
    "mean_urban_fare=np.mean(urban_fare)\n",
    "print(f\"The mean fare for urban trip is:${mean_urban_fare:.2f}.\")\n",
    "median_urban_fare=np.median(urban_fare)\n",
    "print(f\"The median fare for urban trip is:${median_urban_fare:.2f}.\")\n",
    "mode_urban_fare=sts.mode(urban_fare)\n",
    "print(f\"The mode fare for urban trip is:{mode_urban_fare}.\")"
   ]
  },
  {
   "cell_type": "code",
   "execution_count": null,
   "id": "bce4b3b3",
   "metadata": {},
   "outputs": [],
   "source": [
    "#Calculate fare summary statistics suburban\n",
    "suburban_fare=suburban_cities_df[\"fare\"]\n",
    "mean_suburban_fare=np.mean(suburban_fare)\n",
    "print(f\"The mean fare for suburban trip is:${mean_suburban_fare:.2f}.\")\n",
    "median_suburban_fare=np.median(suburban_fare)\n",
    "print(f\"The median fare for suburban trip is:${median_suburban_fare:.2f}.\")\n",
    "mode_suburban_fare=sts.mode(suburban_fare)\n",
    "print(f\"The mode fare for urban trip is:{mode_suburban_fare}.\")"
   ]
  },
  {
   "cell_type": "code",
   "execution_count": null,
   "id": "13cd330f",
   "metadata": {},
   "outputs": [],
   "source": [
    "#Calculate fare summary statistics rural\n",
    "rural_fare=rural_cities_df[\"fare\"]\n",
    "mean_rural_fare=np.mean(rural_fare)\n",
    "print(f\"The mean fare for rural trip is:${mean_rural_fare:.2f}.\")\n",
    "median_rural_fare=np.median(rural_fare)\n",
    "print(f\"The median fare for rural trip is:${median_rural_fare:.2f}.\")\n",
    "mode_rural_fare=sts.mode(rural_fare)\n",
    "print(f\"The mode fare for rural trip is:{mode_rural_fare}.\")"
   ]
  },
  {
   "cell_type": "code",
   "execution_count": null,
   "id": "05bdc963",
   "metadata": {},
   "outputs": [],
   "source": [
    "#Calculate driver summary statistics urban\n",
    "urban_drivers=urban_cities_df[\"driver_count\"]\n",
    "mean_urban_drivers=np.mean(urban_drivers)\n",
    "print(f\"The mean ammount of drivers for urban city is:{mean_urban_drivers:.0f}.\")\n",
    "median_urban_drivers=np.median(urban_drivers)\n",
    "print(f\"The median ammount of drivers for urban city is:{median_urban_drivers:.0f}.\")\n",
    "mode_urban_drivers=sts.mode(urban_drivers)\n",
    "print(f\"The mode ammount of drivers for urban city is:{mode_urban_drivers}.\")"
   ]
  },
  {
   "cell_type": "code",
   "execution_count": null,
   "id": "1d61e1e2",
   "metadata": {},
   "outputs": [],
   "source": [
    "#Calculate driver summary statistics suburban\n",
    "suburban_drivers=suburban_cities_df[\"driver_count\"]\n",
    "mean_suburban_drivers=np.mean(suburban_drivers)\n",
    "print(f\"The mean ammount of drivers for suburban city is:{mean_suburban_drivers:.0f}.\")\n",
    "median_suburban_drivers=np.median(suburban_drivers)\n",
    "print(f\"The median ammount of drivers for suburban city is:{median_suburban_drivers:.0f}.\")\n",
    "mode_suburban_drivers=sts.mode(suburban_drivers)\n",
    "print(f\"The mode ammount of drivers for suburban city is:{mode_suburban_drivers}.\")"
   ]
  },
  {
   "cell_type": "code",
   "execution_count": null,
   "id": "91abeb3d",
   "metadata": {},
   "outputs": [],
   "source": [
    "#Calculate driver summary statistics rural\n",
    "rural_drivers=rural_cities_df[\"driver_count\"]\n",
    "mean_rural_drivers=np.mean(rural_drivers)\n",
    "print(f\"The mean ammount of drivers for rural city is:{mean_rural_drivers:.0f}.\")\n",
    "median_rural_drivers=np.median(rural_drivers)\n",
    "print(f\"The median ammount of drivers for rural city is:{median_rural_drivers:.0f}.\")\n",
    "mode_rural_drivers=sts.mode(rural_drivers)\n",
    "print(f\"The mode ammount of drivers for rural city is:{mode_rural_drivers}.\")"
   ]
  },
  {
   "cell_type": "code",
   "execution_count": null,
   "id": "9b048c6f",
   "metadata": {},
   "outputs": [],
   "source": [
    "#box and whiskers ride counts\n",
    "x_labels=[\"Urban\",\"Suburban\",\"Rural\"]\n",
    "ride_count_data=[urban_ride_count, suburban_ride_count, rural_ride_count]\n",
    "fif,ax=plt.subplots(figsize=(10,6))\n",
    "ax.set_xlabel(\"City Type\",fontsize=\"13\")\n",
    "ax.set_ylabel(\"Number of Rides\")\n",
    "ax.set_title(\"Ride Count Data (2019)\",fontsize=\"15\")\n",
    "ax.set_yticks(np.arange(0,45,step=3))\n",
    "ax.boxplot(ride_count_data,labels=x_labels)\n",
    "ax.grid()\n",
    "#save the figure\n",
    "plt.savefig(\"analysis/Fig2.png\")\n",
    "plt.show"
   ]
  },
  {
   "cell_type": "code",
   "execution_count": null,
   "id": "92fa81c8",
   "metadata": {},
   "outputs": [],
   "source": [
    "#Get the Urban outlier\n",
    "urban_city_outlier=urban_ride_count[urban_ride_count==39].index[0]\n",
    "print(f\"{urban_city_outlier} hast the highest rider count.\")"
   ]
  },
  {
   "cell_type": "code",
   "execution_count": null,
   "id": "dee6707d",
   "metadata": {},
   "outputs": [],
   "source": [
    "#Box and whispers plot ride fare data urban\n",
    "urban_fares=urban_cities_df[\"fare\"]\n",
    "x_label=[\"Urban\"]\n",
    "fig,ax=plt.subplots()\n",
    "ax.boxplot(urban_fares,labels=x_label)\n",
    "ax.set_title(\"Ride Fare Data (2019)\")\n",
    "ax.set_ylabel(\"Fare ($USD)\")\n",
    "ax.set_yticks(np.arange(0,51,step=5))\n",
    "ax.grid()\n",
    "plt.show()\n",
    "print(\"Summary Statistics\")\n",
    "urban_fares.describe()"
   ]
  },
  {
   "cell_type": "code",
   "execution_count": null,
   "id": "601d4273",
   "metadata": {},
   "outputs": [],
   "source": [
    "#Box and whispers plot ride fare data urban\n",
    "suburban_fares=suburban_cities_df[\"fare\"]\n",
    "x_label=[\"Suburban\"]\n",
    "fig,ax=plt.subplots()\n",
    "ax.boxplot(suburban_fares,labels=x_label)\n",
    "ax.set_title(\"Ride Fare Data (2019)\")\n",
    "ax.set_ylabel(\"Fare ($USD)\")\n",
    "ax.set_yticks(np.arange(0,51,step=5))\n",
    "ax.grid()\n",
    "plt.show()\n",
    "print(\"Summary Statistics\")\n",
    "suburban_fares.describe()"
   ]
  },
  {
   "cell_type": "code",
   "execution_count": null,
   "id": "e393440a",
   "metadata": {},
   "outputs": [],
   "source": [
    "#Box and whispers plot ride fare data rural\n",
    "rural_fares=rural_cities_df[\"fare\"]\n",
    "x_label=[\"Rural\"]\n",
    "fig,ax=plt.subplots()\n",
    "ax.boxplot(rural_fares,labels=x_label)\n",
    "ax.set_title(\"Ride Fare Data (2019)\")\n",
    "ax.set_ylabel(\"Fare ($USD)\")\n",
    "ax.set_yticks(np.arange(0,51,step=5))\n",
    "ax.grid()\n",
    "plt.show()\n",
    "print(\"Summary Statistics\")\n",
    "rural_fares.describe()"
   ]
  },
  {
   "cell_type": "code",
   "execution_count": null,
   "id": "e1c3189f",
   "metadata": {},
   "outputs": [],
   "source": [
    "#United Box and Whiskers plot\n",
    "x_labels=[\"Urban\",\"Suburban\",\"Rural\"]\n",
    "fare_data=[urban_fares,suburban_fares,rural_fares]\n",
    "fig,ax=plt.subplots()\n",
    "ax.boxplot(fare_data,labels=x_labels)\n",
    "ax.set_xlabel(\"City Type\")\n",
    "ax.set_ylabel(\"Fare ($USD)\")\n",
    "ax.set_title(\"Fare Data (2019)\")\n",
    "ax.set_yticks(np.arange(0,51,step=5))\n",
    "ax.grid()\n",
    "plt.savefig(\"analysis/Fig3.png\")\n",
    "plt.show()"
   ]
  },
  {
   "cell_type": "code",
   "execution_count": null,
   "id": "82e6bc50",
   "metadata": {},
   "outputs": [],
   "source": [
    "#Crate Box and Whiskers driver data urban\n",
    "urban_drivers=urban_cities_df[\"driver_count\"]\n",
    "x_label=[\"Urban\"]\n",
    "fig,ax=plt.subplots()\n",
    "ax.boxplot(urban_drivers,labels=x_label)\n",
    "ax.set_ylabel(\"Number of Drivers\")\n",
    "ax.set_yticks(np.arange(0,90,step=5))\n",
    "ax.set_title(\"Driver Data\")\n",
    "ax.grid()\n",
    "plt.show()\n",
    "print(\"Summary Statistics\")\n",
    "urban_drivers.describe()"
   ]
  },
  {
   "cell_type": "code",
   "execution_count": null,
   "id": "db8e1e72",
   "metadata": {},
   "outputs": [],
   "source": [
    "#Crate Box and Whiskers driver data suburban\n",
    "suburban_drivers=suburban_cities_df[\"driver_count\"]\n",
    "x_label=[\"Suburban\"]\n",
    "fig,ax=plt.subplots()\n",
    "ax.boxplot(suburban_drivers,labels=x_label)\n",
    "ax.set_ylabel(\"Number of Drivers\")\n",
    "ax.set_yticks(np.arange(0,90,step=5))\n",
    "ax.set_title(\"Driver Data\")\n",
    "ax.grid()\n",
    "plt.show()\n",
    "print(\"Summary Statistics\")\n",
    "suburban_drivers.describe()"
   ]
  },
  {
   "cell_type": "code",
   "execution_count": null,
   "id": "0a3d5db7",
   "metadata": {},
   "outputs": [],
   "source": [
    "#Crate Box and Whiskers driver data rural\n",
    "rural_drivers=rural_cities_df[\"driver_count\"]\n",
    "x_label=[\"Rural\"]\n",
    "fig,ax=plt.subplots()\n",
    "ax.boxplot(rural_drivers,labels=x_label)\n",
    "ax.set_ylabel(\"Number of Drivers\")\n",
    "ax.set_yticks(np.arange(0,90,step=5))\n",
    "ax.set_title(\"Driver Data\")\n",
    "ax.grid()\n",
    "plt.show()\n",
    "print(\"Summary Statistics\")\n",
    "rural_drivers.describe()"
   ]
  },
  {
   "cell_type": "code",
   "execution_count": null,
   "id": "bb4e1233",
   "metadata": {},
   "outputs": [],
   "source": [
    "#Combine the boxplots\n",
    "driver_data=[urban_drivers,suburban_drivers,rural_drivers]\n",
    "x_labels_drivers=[\"Urban\",\"Suburban\",\"\"]\n",
    "fig,ax=plt.subplots()\n",
    "ax.boxplot(driver_data,labels=x_labels)\n",
    "ax.set_xlabel(\"City Type\")\n",
    "ax.set_ylabel(\"Number of Drivers\")\n",
    "ax.set_yticks(np.arange(0,90,step=5))\n",
    "ax.set_title(\"Driver Data (2019)\")\n",
    "ax.grid()\n",
    "plt.savefig(\"analysis/Fig4.png\")\n",
    "plt.show()"
   ]
  },
  {
   "cell_type": "code",
   "execution_count": null,
   "id": "221aeb81",
   "metadata": {},
   "outputs": [],
   "source": [
    "#Get the total fare by city type\n",
    "sum_fares_by_type=pyber_data_df.groupby([\"type\"]).sum()[\"fare\"]"
   ]
  },
  {
   "cell_type": "code",
   "execution_count": null,
   "id": "1262c73f",
   "metadata": {},
   "outputs": [],
   "source": [
    "#Get the total ammount of fares\n",
    "total_fares=pyber_data_df.sum()[\"fare\"]"
   ]
  },
  {
   "cell_type": "code",
   "execution_count": null,
   "id": "6fb98acf",
   "metadata": {},
   "outputs": [],
   "source": [
    "#Calculate the % of fares\n",
    "type_percents=sum_fares_by_type/total_fares *100\n",
    "type_percents"
   ]
  },
  {
   "cell_type": "code",
   "execution_count": null,
   "id": "c069ebe4",
   "metadata": {},
   "outputs": [],
   "source": [
    "import matplotlib as mpl\n",
    "#Create a pie chart of the fares data\n",
    "plt.subplots(figsize=(10,6))\n",
    "plt.pie(type_percents,\n",
    "       labels=[\"Rural\",\"Suburban\",\"Urban\"],\n",
    "       colors=[\"gold\",\"lightskyblue\",\"lightcoral\"],\n",
    "       explode=[0,0,0.1],\n",
    "        autopct=\"%1.1f%%\",\n",
    "        shadow=True,startangle=150)\n",
    "plt.title(\"% of Total Fare by City Type\")\n",
    "#change fontsize\n",
    "mpl.rcParams['font.size']=14\n",
    "plt.savefig(\"analysis/Fig5.png\")\n",
    "plt.show()\n"
   ]
  },
  {
   "cell_type": "code",
   "execution_count": null,
   "id": "36ad32af",
   "metadata": {},
   "outputs": [],
   "source": [
    "#Get the % of rides by city type\n",
    "ride_percents=pyber_data_df.groupby([\"type\"]).count()[\"ride_id\"]/pyber_data_df[\"ride_id\"].count() * 100\n",
    "ride_percents"
   ]
  },
  {
   "cell_type": "code",
   "execution_count": null,
   "id": "b70a8193",
   "metadata": {},
   "outputs": [],
   "source": [
    "#Create a pie chart of the total rides data\n",
    "plt.subplots(figsize=(10,6))\n",
    "plt.pie(ride_percents,\n",
    "       labels=[\"Rural\",\"Suburban\",\"Urban\"],\n",
    "       colors=[\"gold\",\"lightskyblue\",\"lightcoral\"],\n",
    "       explode=[0,0,0.1],\n",
    "        autopct=\"%1.1f%%\",\n",
    "        shadow=True,startangle=150)\n",
    "plt.title(\"% of Total Rides by City Type\")\n",
    "#change fontsize\n",
    "mpl.rcParams['font.size']=14\n",
    "plt.savefig(\"analysis/Fig6.png\")\n",
    "plt.show()"
   ]
  },
  {
   "cell_type": "code",
   "execution_count": null,
   "id": "389eb7a2",
   "metadata": {},
   "outputs": [],
   "source": [
    "#Get the % of Drivers by city type\n",
    "driver_percents=city_data_df.groupby([\"type\"]).sum()[\"driver_count\"]/city_data_df[\"driver_count\"].sum() * 100\n",
    "driver_percents"
   ]
  },
  {
   "cell_type": "code",
   "execution_count": null,
   "id": "f598c9d6",
   "metadata": {},
   "outputs": [],
   "source": [
    "#Create a pie chart of the total rides data\n",
    "plt.subplots(figsize=(10,6))\n",
    "plt.pie(driver_percents,\n",
    "       labels=[\"Rural\",\"Suburban\",\"Urban\"],\n",
    "       colors=[\"gold\",\"lightskyblue\",\"lightcoral\"],\n",
    "       explode=[0,0,0.1],\n",
    "        autopct=\"%1.1f%%\",\n",
    "        shadow=True,startangle=150)\n",
    "plt.title(\"% of Total Drivers by City Type\")\n",
    "#change fontsize\n",
    "mpl.rcParams['font.size']=14\n",
    "plt.savefig(\"analysis/Fig7.png\")\n",
    "plt.show()"
   ]
  },
  {
   "cell_type": "code",
   "execution_count": null,
   "id": "d970453c",
   "metadata": {},
   "outputs": [],
   "source": []
  }
 ],
 "metadata": {
  "kernelspec": {
   "display_name": "PythonData",
   "language": "python",
   "name": "pythondata"
  },
  "language_info": {
   "codemirror_mode": {
    "name": "ipython",
    "version": 3
   },
   "file_extension": ".py",
   "mimetype": "text/x-python",
   "name": "python",
   "nbconvert_exporter": "python",
   "pygments_lexer": "ipython3",
   "version": "3.7.11"
  }
 },
 "nbformat": 4,
 "nbformat_minor": 5
}
